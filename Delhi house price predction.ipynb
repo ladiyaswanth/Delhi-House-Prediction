{
 "cells": [
  {
   "cell_type": "code",
   "execution_count": null,
   "id": "9261fc22",
   "metadata": {},
   "outputs": [],
   "source": [
    "import pandas as pd\n",
    "import numpy as np\n",
    "import matplotlib.pyplot as plt\n",
    "import seaborn as sns\n",
    "from sklearn.model_selection import train_test_split\n",
    "from sklearn.linear_model import LinearRegression\n",
    "from sklearn.tree import DecisionTreeRegressor\n",
    "from sklearn.ensemble import RandomForestRegressor\n",
    "from sklearn.metrics import mean_squared_error, r2_score"
   ]
  },
  {
   "cell_type": "code",
   "execution_count": null,
   "id": "b5349842",
   "metadata": {},
   "outputs": [],
   "source": [
    "df = pd.read_csv(r\"C:\\Users\\user\\Downloads\\DelhiHousePrice.csv\")"
   ]
  },
  {
   "cell_type": "code",
   "execution_count": null,
   "id": "c7c60e1e",
   "metadata": {},
   "outputs": [],
   "source": [
    "df"
   ]
  },
  {
   "cell_type": "code",
   "execution_count": null,
   "id": "138f3e06",
   "metadata": {},
   "outputs": [],
   "source": [
    "df.head(15)"
   ]
  },
  {
   "cell_type": "code",
   "execution_count": null,
   "id": "332ddd9f",
   "metadata": {},
   "outputs": [],
   "source": [
    "df.tail(15)"
   ]
  },
  {
   "cell_type": "code",
   "execution_count": null,
   "id": "562113ae",
   "metadata": {},
   "outputs": [],
   "source": [
    "df.info()"
   ]
  },
  {
   "cell_type": "code",
   "execution_count": null,
   "id": "e4f4557c",
   "metadata": {},
   "outputs": [],
   "source": [
    "df.shape"
   ]
  },
  {
   "cell_type": "code",
   "execution_count": null,
   "id": "ee23456e",
   "metadata": {},
   "outputs": [],
   "source": [
    "print(\"Initial Data Overview:\")\n",
    "print(df.describe())"
   ]
  },
  {
   "cell_type": "code",
   "execution_count": null,
   "id": "6a90a2be",
   "metadata": {},
   "outputs": [],
   "source": [
    "df = df.dropna()"
   ]
  },
  {
   "cell_type": "code",
   "execution_count": null,
   "id": "1309e8b1",
   "metadata": {},
   "outputs": [],
   "source": [
    "df = df.drop_duplicates()"
   ]
  },
  {
   "cell_type": "code",
   "execution_count": null,
   "id": "e89faf7e",
   "metadata": {},
   "outputs": [],
   "source": [
    "df"
   ]
  },
  {
   "cell_type": "code",
   "execution_count": null,
   "id": "6b82aae4",
   "metadata": {},
   "outputs": [],
   "source": [
    "for col in df.columns:\n",
    "    if df[col].dtype == 'object':\n",
    "        df[col] = pd.factorize(df[col])[0]"
   ]
  },
  {
   "cell_type": "code",
   "execution_count": null,
   "id": "33d1ef14",
   "metadata": {},
   "outputs": [],
   "source": [
    "sns.pairplot(df)\n",
    "plt.show()"
   ]
  },
  {
   "cell_type": "code",
   "execution_count": null,
   "id": "2de942b5",
   "metadata": {},
   "outputs": [],
   "source": [
    "plt.figure(figsize=(10, 8))\n",
    "sns.heatmap(df.corr(), annot=True, cmap='coolwarm')\n",
    "plt.title('Feature Correlation Heatmap')\n",
    "plt.show()"
   ]
  },
  {
   "cell_type": "code",
   "execution_count": null,
   "id": "850d375b",
   "metadata": {},
   "outputs": [],
   "source": [
    "X = df.drop('Price', axis=1)  \n",
    "Y = df['Price']\n",
    "X_train, X_test, Y_train, Y_test = train_test_split(X, Y, test_size=0.2, random_state=42)"
   ]
  },
  {
   "cell_type": "code",
   "execution_count": null,
   "id": "e4f4afed",
   "metadata": {},
   "outputs": [],
   "source": [
    "X_train"
   ]
  },
  {
   "cell_type": "code",
   "execution_count": null,
   "id": "014f598a",
   "metadata": {},
   "outputs": [],
   "source": [
    "Y_train"
   ]
  },
  {
   "cell_type": "code",
   "execution_count": null,
   "id": "66b691f0",
   "metadata": {},
   "outputs": [],
   "source": [
    "X_test"
   ]
  },
  {
   "cell_type": "code",
   "execution_count": null,
   "id": "4ed09bb9",
   "metadata": {},
   "outputs": [],
   "source": [
    "Y_test"
   ]
  },
  {
   "cell_type": "code",
   "execution_count": null,
   "id": "ed06b032",
   "metadata": {},
   "outputs": [],
   "source": [
    "lr_model = LinearRegression()\n",
    "lr_model.fit(X_train, Y_train)\n",
    "lr_predictions = lr_model.predict(X_test)\n",
    "print(\"Linear Regression Results:\")\n",
    "print(\"R-squared:\", r2_score(Y_test, lr_predictions))\n",
    "print(\"Mean Squared Error:\", mean_squared_error(Y_test, lr_predictions))"
   ]
  },
  {
   "cell_type": "code",
   "execution_count": null,
   "id": "fc141e9f",
   "metadata": {},
   "outputs": [],
   "source": [
    "dt_model = DecisionTreeRegressor()\n",
    "dt_model.fit(X_train, Y_train)\n",
    "dt_predictions = dt_model.predict(X_test)\n",
    "print(\"\\nDecision Tree Results:\")\n",
    "print(\"R-squared:\", r2_score(Y_test, dt_predictions))\n",
    "print(\"Mean Squared Error:\", mean_squared_error(Y_test, dt_predictions))"
   ]
  },
  {
   "cell_type": "code",
   "execution_count": null,
   "id": "cfdd16f4",
   "metadata": {},
   "outputs": [],
   "source": [
    "rf_model = RandomForestRegressor(n_estimators=100, random_state=42)\n",
    "rf_model.fit(X_train, Y_train)\n",
    "rf_predictions = rf_model.predict(X_test)\n",
    "print(\"\\nRandom Forest Results:\")\n",
    "print(\"R-squared:\", r2_score(Y_test, rf_predictions))\n",
    "print(\"Mean Squared Error:\", mean_squared_error(Y_test, rf_predictions))"
   ]
  },
  {
   "cell_type": "code",
   "execution_count": null,
   "id": "89023cbe",
   "metadata": {},
   "outputs": [],
   "source": [
    "plt.figure(figsize=(10, 6))\n",
    "plt.scatter(Y_test, rf_predictions, alpha=0.6, color='red')\n",
    "plt.plot([Y.min(), Y.max()], [Y.min(), Y.max()], 'k--', lw=2)\n",
    "plt.xlabel('Actual Prices')\n",
    "plt.ylabel('Predicted Prices')\n",
    "plt.title('Actual vs. Predicted Prices')\n",
    "plt.show()"
   ]
  },
  {
   "cell_type": "code",
   "execution_count": null,
   "id": "77288416",
   "metadata": {},
   "outputs": [],
   "source": [
    "import pickle\n",
    "from sklearn.tree import DecisionTreeClassifier\n",
    "model_dt = DecisionTreeClassifier(random_state=42)\n",
    "\n",
    "model_dt.fit(X_train, Y_train)\n",
    "\n",
    "with open('house_price_model.pkl','wb') as file:\n",
    "    pickle.dump(model_dt, file)\n",
    "    print(\"Model Saved Successsfully\")"
   ]
  },
  {
   "cell_type": "code",
   "execution_count": null,
   "id": "a5a62138-b52a-4bb8-9ac7-cc0510ab0ce1",
   "metadata": {},
   "outputs": [],
   "source": [
    "#data normalization with sklearn\n",
    "from sklearn.preprocessing import StandardScaler\n",
    "sc=StandardScaler()\n",
    "#fit scaler on training data\n",
    "X_train=sc.fit_transform(X_train)\n",
    "\n",
    "#transform testing data\n",
    "X_test=sc.transform(X_test)"
   ]
  },
  {
   "cell_type": "code",
   "execution_count": null,
   "id": "f622dc09-b6df-4966-80f0-80ad732bda7c",
   "metadata": {},
   "outputs": [],
   "source": [
    "with open('scdelhi.pkl', 'wb') as scaler_file:\n",
    "    pickle.dump(sc, scaler_file)"
   ]
  },
  {
   "cell_type": "code",
   "execution_count": null,
   "id": "b4e0e9ae-085a-4aab-bcbb-2fcff02e5a45",
   "metadata": {},
   "outputs": [],
   "source": [
    "import os\n",
    "\n",
    "# Streamlit code as a string\n",
    "streamlit_code = \"\"\"\n",
    "import streamlit as st\n",
    "import pickle\n",
    "import numpy as np\n",
    "\n",
    "# Load the trained model and scaler\n",
    "with open('house_price_model.pkl', 'rb') as model_file:\n",
    "    model = pickle.load(model_file)\n",
    "\n",
    "with open('scaler.pkl', 'rb') as scaler_file:\n",
    "    scaler = pickle.load(scaler_file)\n",
    "\n",
    "# Create the web app\n",
    "st.title('Delhi House Price Prediction App')\n",
    "\n",
    "# Input fields\n",
    "st.subheader(\"Enter the property details:\")\n",
    "area = st.number_input('Area (in sq. ft.)', min_value=0.0, max_value=10000.0, value=1000.0, step=10.0)\n",
    "bhk = st.number_input('Number of Bedrooms (BHK)', min_value=1, max_value=10, value=2, step=1)\n",
    "bathroom = st.number_input('Number of Bathrooms', min_value=1, max_value=10, value=1, step=1)\n",
    "furnishing = st.selectbox('Furnishing', ['Unfurnished', 'Semi-Furnished', 'Fully-Furnished'])\n",
    "locality = st.selectbox('Locality', ['South Delhi', 'North Delhi', 'East Delhi', 'West Delhi', 'Central Delhi'])\n",
    "parking = st.number_input('Number of Parking Spaces', min_value=0, max_value=5, value=1, step=1)\n",
    "status = st.selectbox('Status', ['Ready to Move', 'Under Construction'])\n",
    "transaction = st.selectbox('Transaction Type', ['New Property', 'Resale'])\n",
    "property_type = st.selectbox('Property Type', ['Apartment', 'Independent House', 'Villa', 'Builder Floor'])\n",
    "per_sqft = st.number_input('Per Square Foot Rate (₹)', min_value=0.0, max_value=100000.0, value=5000.0, step=100.0)\n",
    "\n",
    "# Encoding categorical features\n",
    "furnishing_encoded = {'Unfurnished': 0, 'Semi-Furnished': 1, 'Fully-Furnished': 2}[furnishing]\n",
    "locality_encoded = {\n",
    "    'South Delhi': 0,\n",
    "    'North Delhi': 1,\n",
    "    'East Delhi': 2,\n",
    "    'West Delhi': 3,\n",
    "    'Central Delhi': 4\n",
    "}[locality]\n",
    "status_encoded = {'Ready to Move': 0, 'Under Construction': 1}[status]\n",
    "transaction_encoded = {'New Property': 0, 'Resale': 1}[transaction]\n",
    "property_type_encoded = {\n",
    "    'Apartment': 0,\n",
    "    'Independent House': 1,\n",
    "    'Villa': 2,\n",
    "    'Builder Floor': 3\n",
    "}[property_type]\n",
    "\n",
    "# Prepare the feature vector\n",
    "features = np.array([[area, bhk, bathroom, furnishing_encoded, locality_encoded, parking, status_encoded, transaction_encoded, property_type_encoded, per_sqft]], dtype=np.float64)\n",
    "\n",
    "# Scale the features\n",
    "features_scaled = scaler.transform(features)\n",
    "\n",
    "# Predict the house price\n",
    "predicted_price = model.predict(features_scaled)\n",
    "\n",
    "# Display the result\n",
    "st.write(f'Predicted House Price: ₹{predicted_price[0]:,.2f}')\n",
    "import streamlit as st\n",
    "import pickle\n",
    "import numpy as np\n",
    "\n",
    "# Load the trained model and scaler\n",
    "with open('house_price_model.pkl', 'rb') as model_file:\n",
    "    model = pickle.load(model_file)\n",
    "\n",
    "with open('scaler.pkl', 'rb') as scaler_file:\n",
    "    scaler = pickle.load(scaler_file)\n",
    "\n",
    "# Create the web app\n",
    "st.title('Delhi House Price Prediction App')\n",
    "\n",
    "# Input fields\n",
    "st.subheader(\"Enter the property details:\")\n",
    "area = st.number_input('Area (in sq. ft.)', min_value=0.0, max_value=10000.0, value=1000.0, step=10.0)\n",
    "bhk = st.number_input('Number of Bedrooms (BHK)', min_value=1, max_value=10, value=2, step=1)\n",
    "bathroom = st.number_input('Number of Bathrooms', min_value=1, max_value=10, value=1, step=1)\n",
    "furnishing = st.selectbox('Furnishing', ['Unfurnished', 'Semi-Furnished', 'Fully-Furnished'])\n",
    "locality = st.selectbox('Locality', ['South Delhi', 'North Delhi', 'East Delhi', 'West Delhi', 'Central Delhi'])\n",
    "parking = st.number_input('Number of Parking Spaces', min_value=0, max_value=5, value=1, step=1)\n",
    "status = st.selectbox('Status', ['Ready to Move', 'Under Construction'])\n",
    "transaction = st.selectbox('Transaction Type', ['New Property', 'Resale'])\n",
    "property_type = st.selectbox('Property Type', ['Apartment', 'Independent House', 'Villa', 'Builder Floor'])\n",
    "per_sqft = st.number_input('Per Square Foot Rate (₹)', min_value=0.0, max_value=100000.0, value=5000.0, step=100.0)\n",
    "\n",
    "# Encoding categorical features\n",
    "furnishing_encoded = {'Unfurnished': 0, 'Semi-Furnished': 1, 'Fully-Furnished': 2}[furnishing]\n",
    "locality_encoded = {\n",
    "    'South Delhi': 0,\n",
    "    'North Delhi': 1,\n",
    "    'East Delhi': 2,\n",
    "    'West Delhi': 3,\n",
    "    'Central Delhi': 4\n",
    "}[locality]\n",
    "status_encoded = {'Ready to Move': 0, 'Under Construction': 1}[status]\n",
    "transaction_encoded = {'New Property': 0, 'Resale': 1}[transaction]\n",
    "property_type_encoded = {\n",
    "    'Apartment': 0,\n",
    "    'Independent House': 1,\n",
    "    'Villa': 2,\n",
    "    'Builder Floor': 3\n",
    "}[property_type]\n",
    "\n",
    "# Prepare the feature vector\n",
    "features = np.array([[area, bhk, bathroom, furnishing_encoded, locality_encoded, parking, status_encoded, transaction_encoded, property_type_encoded, per_sqft]], dtype=np.float64)\n",
    "\n",
    "# Scale the features\n",
    "features_scaled = scaler.transform(features)\n",
    "\n",
    "# Predict the house price\n",
    "predicted_price = model.predict(features_scaled)\n",
    "\n",
    "# Display the result\n",
    "st.write(f'Predicted House Price: ₹{predicted_price[0]:,.2f}')\n",
    "\"\"\"\n",
    "file_path = os.path.join('C:\\\\Users\\\\user', 'housepricepredictionapp.py')\n",
    "\n",
    "try:\n",
    "    \n",
    "    with open(file_path, 'w', encoding='utf-8') as file:\n",
    "        file.write(streamlit_code)\n",
    "    print(f\"File '{file_path}' has been saved.\")\n",
    "except Exception as e:\n",
    "    print(f\"Error saving file: {e}\")"
   ]
  },
  {
   "cell_type": "code",
   "execution_count": null,
   "id": "302c39b7-c5e2-4fb7-a7e2-56b570503767",
   "metadata": {},
   "outputs": [],
   "source": []
  }
 ],
 "metadata": {
  "kernelspec": {
   "display_name": "Python 3 (ipykernel)",
   "language": "python",
   "name": "python3"
  },
  "language_info": {
   "codemirror_mode": {
    "name": "ipython",
    "version": 3
   },
   "file_extension": ".py",
   "mimetype": "text/x-python",
   "name": "python",
   "nbconvert_exporter": "python",
   "pygments_lexer": "ipython3",
   "version": "3.12.4"
  }
 },
 "nbformat": 4,
 "nbformat_minor": 5
}
